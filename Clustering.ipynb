{
 "cells": [
  {
   "cell_type": "markdown",
   "id": "afab01da",
   "metadata": {},
   "source": [
    "## Segmenting customers into clusters -\n",
    "\n",
    "### Performing Customer Segmentation on the transactional data to build an efficient marketing model."
   ]
  },
  {
   "cell_type": "code",
   "execution_count": 1,
   "id": "79a25cf5",
   "metadata": {},
   "outputs": [],
   "source": [
    "import pandas as pd\n",
    "import numpy as np\n",
    "import seaborn as sns\n",
    "import matplotlib.pyplot as plt\n",
    "%matplotlib inline\n",
    "\n",
    "import warnings\n",
    "warnings.filterwarnings('ignore')"
   ]
  },
  {
   "cell_type": "code",
   "execution_count": 2,
   "id": "c9e9e9f1",
   "metadata": {},
   "outputs": [],
   "source": [
    "df = pd.read_excel('Segmenting_customers_into_clusters_dataset.xlsx')"
   ]
  },
  {
   "cell_type": "code",
   "execution_count": 3,
   "id": "70d8789e",
   "metadata": {},
   "outputs": [
    {
     "data": {
      "text/html": [
       "<div>\n",
       "<style scoped>\n",
       "    .dataframe tbody tr th:only-of-type {\n",
       "        vertical-align: middle;\n",
       "    }\n",
       "\n",
       "    .dataframe tbody tr th {\n",
       "        vertical-align: top;\n",
       "    }\n",
       "\n",
       "    .dataframe thead th {\n",
       "        text-align: right;\n",
       "    }\n",
       "</style>\n",
       "<table border=\"1\" class=\"dataframe\">\n",
       "  <thead>\n",
       "    <tr style=\"text-align: right;\">\n",
       "      <th></th>\n",
       "      <th>InvoiceNo</th>\n",
       "      <th>StockCode</th>\n",
       "      <th>Description</th>\n",
       "      <th>Quantity</th>\n",
       "      <th>InvoiceDate</th>\n",
       "      <th>UnitPrice</th>\n",
       "      <th>CustomerID</th>\n",
       "      <th>Country</th>\n",
       "    </tr>\n",
       "  </thead>\n",
       "  <tbody>\n",
       "    <tr>\n",
       "      <th>0</th>\n",
       "      <td>536365</td>\n",
       "      <td>85123A</td>\n",
       "      <td>WHITE HANGING HEART T-LIGHT HOLDER</td>\n",
       "      <td>6</td>\n",
       "      <td>2010-12-01 08:26:00</td>\n",
       "      <td>2.55</td>\n",
       "      <td>17850.0</td>\n",
       "      <td>United Kingdom</td>\n",
       "    </tr>\n",
       "    <tr>\n",
       "      <th>1</th>\n",
       "      <td>536365</td>\n",
       "      <td>71053</td>\n",
       "      <td>WHITE METAL LANTERN</td>\n",
       "      <td>6</td>\n",
       "      <td>2010-12-01 08:26:00</td>\n",
       "      <td>3.39</td>\n",
       "      <td>17850.0</td>\n",
       "      <td>United Kingdom</td>\n",
       "    </tr>\n",
       "    <tr>\n",
       "      <th>2</th>\n",
       "      <td>536365</td>\n",
       "      <td>84406B</td>\n",
       "      <td>CREAM CUPID HEARTS COAT HANGER</td>\n",
       "      <td>8</td>\n",
       "      <td>2010-12-01 08:26:00</td>\n",
       "      <td>2.75</td>\n",
       "      <td>17850.0</td>\n",
       "      <td>United Kingdom</td>\n",
       "    </tr>\n",
       "    <tr>\n",
       "      <th>3</th>\n",
       "      <td>536365</td>\n",
       "      <td>84029G</td>\n",
       "      <td>KNITTED UNION FLAG HOT WATER BOTTLE</td>\n",
       "      <td>6</td>\n",
       "      <td>2010-12-01 08:26:00</td>\n",
       "      <td>3.39</td>\n",
       "      <td>17850.0</td>\n",
       "      <td>United Kingdom</td>\n",
       "    </tr>\n",
       "    <tr>\n",
       "      <th>4</th>\n",
       "      <td>536365</td>\n",
       "      <td>84029E</td>\n",
       "      <td>RED WOOLLY HOTTIE WHITE HEART.</td>\n",
       "      <td>6</td>\n",
       "      <td>2010-12-01 08:26:00</td>\n",
       "      <td>3.39</td>\n",
       "      <td>17850.0</td>\n",
       "      <td>United Kingdom</td>\n",
       "    </tr>\n",
       "  </tbody>\n",
       "</table>\n",
       "</div>"
      ],
      "text/plain": [
       "  InvoiceNo StockCode                          Description  Quantity  \\\n",
       "0    536365    85123A   WHITE HANGING HEART T-LIGHT HOLDER         6   \n",
       "1    536365     71053                  WHITE METAL LANTERN         6   \n",
       "2    536365    84406B       CREAM CUPID HEARTS COAT HANGER         8   \n",
       "3    536365    84029G  KNITTED UNION FLAG HOT WATER BOTTLE         6   \n",
       "4    536365    84029E       RED WOOLLY HOTTIE WHITE HEART.         6   \n",
       "\n",
       "          InvoiceDate  UnitPrice  CustomerID         Country  \n",
       "0 2010-12-01 08:26:00       2.55     17850.0  United Kingdom  \n",
       "1 2010-12-01 08:26:00       3.39     17850.0  United Kingdom  \n",
       "2 2010-12-01 08:26:00       2.75     17850.0  United Kingdom  \n",
       "3 2010-12-01 08:26:00       3.39     17850.0  United Kingdom  \n",
       "4 2010-12-01 08:26:00       3.39     17850.0  United Kingdom  "
      ]
     },
     "execution_count": 3,
     "metadata": {},
     "output_type": "execute_result"
    }
   ],
   "source": [
    "df.head()"
   ]
  },
  {
   "cell_type": "code",
   "execution_count": 4,
   "id": "af609e2a",
   "metadata": {},
   "outputs": [
    {
     "data": {
      "text/html": [
       "<div>\n",
       "<style scoped>\n",
       "    .dataframe tbody tr th:only-of-type {\n",
       "        vertical-align: middle;\n",
       "    }\n",
       "\n",
       "    .dataframe tbody tr th {\n",
       "        vertical-align: top;\n",
       "    }\n",
       "\n",
       "    .dataframe thead th {\n",
       "        text-align: right;\n",
       "    }\n",
       "</style>\n",
       "<table border=\"1\" class=\"dataframe\">\n",
       "  <thead>\n",
       "    <tr style=\"text-align: right;\">\n",
       "      <th></th>\n",
       "      <th>InvoiceNo</th>\n",
       "      <th>StockCode</th>\n",
       "      <th>Description</th>\n",
       "      <th>Quantity</th>\n",
       "      <th>InvoiceDate</th>\n",
       "      <th>UnitPrice</th>\n",
       "      <th>CustomerID</th>\n",
       "      <th>Country</th>\n",
       "    </tr>\n",
       "  </thead>\n",
       "  <tbody>\n",
       "    <tr>\n",
       "      <th>541904</th>\n",
       "      <td>581587</td>\n",
       "      <td>22613</td>\n",
       "      <td>PACK OF 20 SPACEBOY NAPKINS</td>\n",
       "      <td>12</td>\n",
       "      <td>2011-12-09 12:50:00</td>\n",
       "      <td>0.85</td>\n",
       "      <td>12680.0</td>\n",
       "      <td>France</td>\n",
       "    </tr>\n",
       "    <tr>\n",
       "      <th>541905</th>\n",
       "      <td>581587</td>\n",
       "      <td>22899</td>\n",
       "      <td>CHILDREN'S APRON DOLLY GIRL</td>\n",
       "      <td>6</td>\n",
       "      <td>2011-12-09 12:50:00</td>\n",
       "      <td>2.10</td>\n",
       "      <td>12680.0</td>\n",
       "      <td>France</td>\n",
       "    </tr>\n",
       "    <tr>\n",
       "      <th>541906</th>\n",
       "      <td>581587</td>\n",
       "      <td>23254</td>\n",
       "      <td>CHILDRENS CUTLERY DOLLY GIRL</td>\n",
       "      <td>4</td>\n",
       "      <td>2011-12-09 12:50:00</td>\n",
       "      <td>4.15</td>\n",
       "      <td>12680.0</td>\n",
       "      <td>France</td>\n",
       "    </tr>\n",
       "    <tr>\n",
       "      <th>541907</th>\n",
       "      <td>581587</td>\n",
       "      <td>23255</td>\n",
       "      <td>CHILDRENS CUTLERY CIRCUS PARADE</td>\n",
       "      <td>4</td>\n",
       "      <td>2011-12-09 12:50:00</td>\n",
       "      <td>4.15</td>\n",
       "      <td>12680.0</td>\n",
       "      <td>France</td>\n",
       "    </tr>\n",
       "    <tr>\n",
       "      <th>541908</th>\n",
       "      <td>581587</td>\n",
       "      <td>22138</td>\n",
       "      <td>BAKING SET 9 PIECE RETROSPOT</td>\n",
       "      <td>3</td>\n",
       "      <td>2011-12-09 12:50:00</td>\n",
       "      <td>4.95</td>\n",
       "      <td>12680.0</td>\n",
       "      <td>France</td>\n",
       "    </tr>\n",
       "  </tbody>\n",
       "</table>\n",
       "</div>"
      ],
      "text/plain": [
       "       InvoiceNo StockCode                      Description  Quantity  \\\n",
       "541904    581587     22613      PACK OF 20 SPACEBOY NAPKINS        12   \n",
       "541905    581587     22899     CHILDREN'S APRON DOLLY GIRL          6   \n",
       "541906    581587     23254    CHILDRENS CUTLERY DOLLY GIRL          4   \n",
       "541907    581587     23255  CHILDRENS CUTLERY CIRCUS PARADE         4   \n",
       "541908    581587     22138    BAKING SET 9 PIECE RETROSPOT          3   \n",
       "\n",
       "               InvoiceDate  UnitPrice  CustomerID Country  \n",
       "541904 2011-12-09 12:50:00       0.85     12680.0  France  \n",
       "541905 2011-12-09 12:50:00       2.10     12680.0  France  \n",
       "541906 2011-12-09 12:50:00       4.15     12680.0  France  \n",
       "541907 2011-12-09 12:50:00       4.15     12680.0  France  \n",
       "541908 2011-12-09 12:50:00       4.95     12680.0  France  "
      ]
     },
     "execution_count": 4,
     "metadata": {},
     "output_type": "execute_result"
    }
   ],
   "source": [
    "df.tail()"
   ]
  },
  {
   "cell_type": "markdown",
   "id": "93a2c422",
   "metadata": {},
   "source": [
    "### Dataset Variables are as follows:-\n",
    "\n",
    "##### Invoice No: Invoice number, a 6-digit integral number uniquely assigned to each transaction. If this code starts with the letter 'c', it indicates a cancellation.\n",
    "\n",
    "##### StockCode: Product / item code, a 5-digit integral number uniquely assigned to each distinct product.\n",
    "\n",
    "##### Description: Product / item name.\n",
    "\n",
    "##### Quantity: The quantities of each product / item per transaction.\n",
    "\n",
    "##### Invoice Date: Invoice Date and time, the day and time when each transaction was generated.\n",
    "\n",
    "##### UnitPrice: Unit price, Product price per unit in sterling.\n",
    "\n",
    "##### CustomerID: Customer number, a 5-digit integral number uniquely assigned to each customer.\n",
    "\n",
    "##### Country: Country name, the name of the country where each customer resides."
   ]
  },
  {
   "cell_type": "code",
   "execution_count": 5,
   "id": "17be8dbc",
   "metadata": {},
   "outputs": [
    {
     "data": {
      "text/plain": [
       "(541909, 8)"
      ]
     },
     "execution_count": 5,
     "metadata": {},
     "output_type": "execute_result"
    }
   ],
   "source": [
    "# Exploring our dataset\n",
    "df.shape"
   ]
  },
  {
   "cell_type": "code",
   "execution_count": 6,
   "id": "85d3f0ae",
   "metadata": {},
   "outputs": [
    {
     "data": {
      "text/plain": [
       "InvoiceNo              object\n",
       "StockCode              object\n",
       "Description            object\n",
       "Quantity                int64\n",
       "InvoiceDate    datetime64[ns]\n",
       "UnitPrice             float64\n",
       "CustomerID            float64\n",
       "Country                object\n",
       "dtype: object"
      ]
     },
     "execution_count": 6,
     "metadata": {},
     "output_type": "execute_result"
    }
   ],
   "source": [
    "df.dtypes"
   ]
  },
  {
   "cell_type": "code",
   "execution_count": 7,
   "id": "7b048578",
   "metadata": {},
   "outputs": [
    {
     "data": {
      "text/html": [
       "<div>\n",
       "<style scoped>\n",
       "    .dataframe tbody tr th:only-of-type {\n",
       "        vertical-align: middle;\n",
       "    }\n",
       "\n",
       "    .dataframe tbody tr th {\n",
       "        vertical-align: top;\n",
       "    }\n",
       "\n",
       "    .dataframe thead th {\n",
       "        text-align: right;\n",
       "    }\n",
       "</style>\n",
       "<table border=\"1\" class=\"dataframe\">\n",
       "  <thead>\n",
       "    <tr style=\"text-align: right;\">\n",
       "      <th></th>\n",
       "      <th>Quantity</th>\n",
       "      <th>UnitPrice</th>\n",
       "      <th>CustomerID</th>\n",
       "    </tr>\n",
       "  </thead>\n",
       "  <tbody>\n",
       "    <tr>\n",
       "      <th>count</th>\n",
       "      <td>541909.000000</td>\n",
       "      <td>541909.000000</td>\n",
       "      <td>406829.000000</td>\n",
       "    </tr>\n",
       "    <tr>\n",
       "      <th>mean</th>\n",
       "      <td>9.552250</td>\n",
       "      <td>4.611114</td>\n",
       "      <td>15287.690570</td>\n",
       "    </tr>\n",
       "    <tr>\n",
       "      <th>std</th>\n",
       "      <td>218.081158</td>\n",
       "      <td>96.759853</td>\n",
       "      <td>1713.600303</td>\n",
       "    </tr>\n",
       "    <tr>\n",
       "      <th>min</th>\n",
       "      <td>-80995.000000</td>\n",
       "      <td>-11062.060000</td>\n",
       "      <td>12346.000000</td>\n",
       "    </tr>\n",
       "    <tr>\n",
       "      <th>25%</th>\n",
       "      <td>1.000000</td>\n",
       "      <td>1.250000</td>\n",
       "      <td>13953.000000</td>\n",
       "    </tr>\n",
       "    <tr>\n",
       "      <th>50%</th>\n",
       "      <td>3.000000</td>\n",
       "      <td>2.080000</td>\n",
       "      <td>15152.000000</td>\n",
       "    </tr>\n",
       "    <tr>\n",
       "      <th>75%</th>\n",
       "      <td>10.000000</td>\n",
       "      <td>4.130000</td>\n",
       "      <td>16791.000000</td>\n",
       "    </tr>\n",
       "    <tr>\n",
       "      <th>max</th>\n",
       "      <td>80995.000000</td>\n",
       "      <td>38970.000000</td>\n",
       "      <td>18287.000000</td>\n",
       "    </tr>\n",
       "  </tbody>\n",
       "</table>\n",
       "</div>"
      ],
      "text/plain": [
       "            Quantity      UnitPrice     CustomerID\n",
       "count  541909.000000  541909.000000  406829.000000\n",
       "mean        9.552250       4.611114   15287.690570\n",
       "std       218.081158      96.759853    1713.600303\n",
       "min    -80995.000000  -11062.060000   12346.000000\n",
       "25%         1.000000       1.250000   13953.000000\n",
       "50%         3.000000       2.080000   15152.000000\n",
       "75%        10.000000       4.130000   16791.000000\n",
       "max     80995.000000   38970.000000   18287.000000"
      ]
     },
     "execution_count": 7,
     "metadata": {},
     "output_type": "execute_result"
    }
   ],
   "source": [
    "df.describe()"
   ]
  },
  {
   "cell_type": "code",
   "execution_count": 8,
   "id": "b44c5783",
   "metadata": {},
   "outputs": [
    {
     "data": {
      "text/plain": [
       "<AxesSubplot:xlabel='UnitPrice', ylabel='Density'>"
      ]
     },
     "execution_count": 8,
     "metadata": {},
     "output_type": "execute_result"
    },
    {
     "data": {
      "image/png": "[encoded data removed]",
      "text/plain": [
       "<Figure size 432x288 with 1 Axes>"
      ]
     },
     "metadata": {
      "needs_background": "light"
     },
     "output_type": "display_data"
    }
   ],
   "source": [
    "sns.kdeplot(df['UnitPrice'])"
   ]
  },
  {
   "cell_type": "code",
   "execution_count": 9,
   "id": "32753451",
   "metadata": {},
   "outputs": [
    {
     "data": {
      "text/plain": [
       "<AxesSubplot:xlabel='Quantity', ylabel='Density'>"
      ]
     },
     "execution_count": 9,
     "metadata": {},
     "output_type": "execute_result"
    },
    {
     "data": {
      "image/png": "[encoded data removed]",
      "text/plain": [
       "<Figure size 432x288 with 1 Axes>"
      ]
     },
     "metadata": {
      "needs_background": "light"
     },
     "output_type": "display_data"
    }
   ],
   "source": [
    "sns.kdeplot(df['Quantity'])"
   ]
  },
  {
   "cell_type": "markdown",
   "id": "fdb2379c",
   "metadata": {},
   "source": [
    "In our dataset, we have outliers present in the data as there are negative values observed from the plot."
   ]
  },
  {
   "cell_type": "code",
   "execution_count": 10,
   "id": "023999fb",
   "metadata": {},
   "outputs": [],
   "source": [
    "def abs_val(value, data):\n",
    "    for i in value:\n",
    "        quant1 = data[i].quantile(0.25)\n",
    "        quant2 = data[i].quantile(0.75)\n",
    "        IQR = quant2 - quant1\n",
    "        val_max = quant2 + 1.5*IQR\n",
    "        data = data.loc[(data[i] > 0) & (data[i] < val_max)]\n",
    "    return data"
   ]
  },
  {
   "cell_type": "code",
   "execution_count": 11,
   "id": "9bb6403e",
   "metadata": {},
   "outputs": [],
   "source": [
    "item = ['Quantity', 'UnitPrice']\n",
    "frame = abs_val(item, df)"
   ]
  },
  {
   "cell_type": "code",
   "execution_count": 12,
   "id": "927fd8e0",
   "metadata": {},
   "outputs": [],
   "source": [
    "def clean(value, data):\n",
    "    plt.figure(figsize = (12,6), dpi=150)\n",
    "    for j,k in enumerate(value):\n",
    "        plt.subplot(1, len(value), j+1)\n",
    "        sns.kdeplot(data[k])\n"
   ]
  },
  {
   "cell_type": "code",
   "execution_count": 13,
   "id": "35c42a52",
   "metadata": {},
   "outputs": [
    {
     "data": {
      "image/png": "[encoded data removed]",
      "text/plain": [
       "<Figure size 1800x900 with 2 Axes>"
      ]
     },
     "metadata": {
      "needs_background": "light"
     },
     "output_type": "display_data"
    }
   ],
   "source": [
    "clean(item, frame)"
   ]
  },
  {
   "cell_type": "code",
   "execution_count": 14,
   "id": "4edc1f1a",
   "metadata": {},
   "outputs": [
    {
     "data": {
      "text/html": [
       "<div>\n",
       "<style scoped>\n",
       "    .dataframe tbody tr th:only-of-type {\n",
       "        vertical-align: middle;\n",
       "    }\n",
       "\n",
       "    .dataframe tbody tr th {\n",
       "        vertical-align: top;\n",
       "    }\n",
       "\n",
       "    .dataframe thead th {\n",
       "        text-align: right;\n",
       "    }\n",
       "</style>\n",
       "<table border=\"1\" class=\"dataframe\">\n",
       "  <thead>\n",
       "    <tr style=\"text-align: right;\">\n",
       "      <th></th>\n",
       "      <th>Quantity</th>\n",
       "      <th>UnitPrice</th>\n",
       "      <th>CustomerID</th>\n",
       "    </tr>\n",
       "  </thead>\n",
       "  <tbody>\n",
       "    <tr>\n",
       "      <th>count</th>\n",
       "      <td>437169.000000</td>\n",
       "      <td>437169.000000</td>\n",
       "      <td>321030.000000</td>\n",
       "    </tr>\n",
       "    <tr>\n",
       "      <th>mean</th>\n",
       "      <td>4.932159</td>\n",
       "      <td>2.712419</td>\n",
       "      <td>15352.180587</td>\n",
       "    </tr>\n",
       "    <tr>\n",
       "      <th>std</th>\n",
       "      <td>4.507273</td>\n",
       "      <td>1.944784</td>\n",
       "      <td>1703.612290</td>\n",
       "    </tr>\n",
       "    <tr>\n",
       "      <th>min</th>\n",
       "      <td>1.000000</td>\n",
       "      <td>0.001000</td>\n",
       "      <td>12347.000000</td>\n",
       "    </tr>\n",
       "    <tr>\n",
       "      <th>25%</th>\n",
       "      <td>1.000000</td>\n",
       "      <td>1.250000</td>\n",
       "      <td>14049.000000</td>\n",
       "    </tr>\n",
       "    <tr>\n",
       "      <th>50%</th>\n",
       "      <td>3.000000</td>\n",
       "      <td>2.080000</td>\n",
       "      <td>15298.000000</td>\n",
       "    </tr>\n",
       "    <tr>\n",
       "      <th>75%</th>\n",
       "      <td>8.000000</td>\n",
       "      <td>3.750000</td>\n",
       "      <td>16873.000000</td>\n",
       "    </tr>\n",
       "    <tr>\n",
       "      <th>max</th>\n",
       "      <td>23.000000</td>\n",
       "      <td>8.490000</td>\n",
       "      <td>18287.000000</td>\n",
       "    </tr>\n",
       "  </tbody>\n",
       "</table>\n",
       "</div>"
      ],
      "text/plain": [
       "            Quantity      UnitPrice     CustomerID\n",
       "count  437169.000000  437169.000000  321030.000000\n",
       "mean        4.932159       2.712419   15352.180587\n",
       "std         4.507273       1.944784    1703.612290\n",
       "min         1.000000       0.001000   12347.000000\n",
       "25%         1.000000       1.250000   14049.000000\n",
       "50%         3.000000       2.080000   15298.000000\n",
       "75%         8.000000       3.750000   16873.000000\n",
       "max        23.000000       8.490000   18287.000000"
      ]
     },
     "execution_count": 14,
     "metadata": {},
     "output_type": "execute_result"
    }
   ],
   "source": [
    "frame.describe()"
   ]
  },
  {
   "cell_type": "code",
   "execution_count": 15,
   "id": "e52a8ed8",
   "metadata": {},
   "outputs": [],
   "source": [
    "import datetime as dt\n",
    "frame['Trans_year'] = df['InvoiceDate'].dt.year.astype('category')\n",
    "frame['Trans_month'] = df['InvoiceDate'].dt.month.astype('category')\n",
    "frame['Trans_day'] = df['InvoiceDate'].dt.day.astype('category')\n",
    "frame['Trans_hour'] = df['InvoiceDate'].dt.hour.astype('category')\n",
    "df['CustomerID'] = df['CustomerID'].astype('category')"
   ]
  },
  {
   "cell_type": "code",
   "execution_count": 16,
   "id": "e9302808",
   "metadata": {},
   "outputs": [],
   "source": [
    "df = frame"
   ]
  },
  {
   "cell_type": "code",
   "execution_count": 17,
   "id": "3d5f70ff",
   "metadata": {},
   "outputs": [
    {
     "data": {
      "text/html": [
       "<div>\n",
       "<style scoped>\n",
       "    .dataframe tbody tr th:only-of-type {\n",
       "        vertical-align: middle;\n",
       "    }\n",
       "\n",
       "    .dataframe tbody tr th {\n",
       "        vertical-align: top;\n",
       "    }\n",
       "\n",
       "    .dataframe thead th {\n",
       "        text-align: right;\n",
       "    }\n",
       "</style>\n",
       "<table border=\"1\" class=\"dataframe\">\n",
       "  <thead>\n",
       "    <tr style=\"text-align: right;\">\n",
       "      <th></th>\n",
       "      <th>InvoiceNo</th>\n",
       "      <th>StockCode</th>\n",
       "      <th>Description</th>\n",
       "      <th>Quantity</th>\n",
       "      <th>InvoiceDate</th>\n",
       "      <th>UnitPrice</th>\n",
       "      <th>CustomerID</th>\n",
       "      <th>Country</th>\n",
       "      <th>Trans_year</th>\n",
       "      <th>Trans_month</th>\n",
       "      <th>Trans_day</th>\n",
       "      <th>Trans_hour</th>\n",
       "    </tr>\n",
       "  </thead>\n",
       "  <tbody>\n",
       "    <tr>\n",
       "      <th>0</th>\n",
       "      <td>536365</td>\n",
       "      <td>85123A</td>\n",
       "      <td>WHITE HANGING HEART T-LIGHT HOLDER</td>\n",
       "      <td>6</td>\n",
       "      <td>2010-12-01 08:26:00</td>\n",
       "      <td>2.55</td>\n",
       "      <td>17850.0</td>\n",
       "      <td>United Kingdom</td>\n",
       "      <td>2010</td>\n",
       "      <td>12</td>\n",
       "      <td>1</td>\n",
       "      <td>8</td>\n",
       "    </tr>\n",
       "    <tr>\n",
       "      <th>1</th>\n",
       "      <td>536365</td>\n",
       "      <td>71053</td>\n",
       "      <td>WHITE METAL LANTERN</td>\n",
       "      <td>6</td>\n",
       "      <td>2010-12-01 08:26:00</td>\n",
       "      <td>3.39</td>\n",
       "      <td>17850.0</td>\n",
       "      <td>United Kingdom</td>\n",
       "      <td>2010</td>\n",
       "      <td>12</td>\n",
       "      <td>1</td>\n",
       "      <td>8</td>\n",
       "    </tr>\n",
       "    <tr>\n",
       "      <th>2</th>\n",
       "      <td>536365</td>\n",
       "      <td>84406B</td>\n",
       "      <td>CREAM CUPID HEARTS COAT HANGER</td>\n",
       "      <td>8</td>\n",
       "      <td>2010-12-01 08:26:00</td>\n",
       "      <td>2.75</td>\n",
       "      <td>17850.0</td>\n",
       "      <td>United Kingdom</td>\n",
       "      <td>2010</td>\n",
       "      <td>12</td>\n",
       "      <td>1</td>\n",
       "      <td>8</td>\n",
       "    </tr>\n",
       "    <tr>\n",
       "      <th>3</th>\n",
       "      <td>536365</td>\n",
       "      <td>84029G</td>\n",
       "      <td>KNITTED UNION FLAG HOT WATER BOTTLE</td>\n",
       "      <td>6</td>\n",
       "      <td>2010-12-01 08:26:00</td>\n",
       "      <td>3.39</td>\n",
       "      <td>17850.0</td>\n",
       "      <td>United Kingdom</td>\n",
       "      <td>2010</td>\n",
       "      <td>12</td>\n",
       "      <td>1</td>\n",
       "      <td>8</td>\n",
       "    </tr>\n",
       "    <tr>\n",
       "      <th>4</th>\n",
       "      <td>536365</td>\n",
       "      <td>84029E</td>\n",
       "      <td>RED WOOLLY HOTTIE WHITE HEART.</td>\n",
       "      <td>6</td>\n",
       "      <td>2010-12-01 08:26:00</td>\n",
       "      <td>3.39</td>\n",
       "      <td>17850.0</td>\n",
       "      <td>United Kingdom</td>\n",
       "      <td>2010</td>\n",
       "      <td>12</td>\n",
       "      <td>1</td>\n",
       "      <td>8</td>\n",
       "    </tr>\n",
       "  </tbody>\n",
       "</table>\n",
       "</div>"
      ],
      "text/plain": [
       "  InvoiceNo StockCode                          Description  Quantity  \\\n",
       "0    536365    85123A   WHITE HANGING HEART T-LIGHT HOLDER         6   \n",
       "1    536365     71053                  WHITE METAL LANTERN         6   \n",
       "2    536365    84406B       CREAM CUPID HEARTS COAT HANGER         8   \n",
       "3    536365    84029G  KNITTED UNION FLAG HOT WATER BOTTLE         6   \n",
       "4    536365    84029E       RED WOOLLY HOTTIE WHITE HEART.         6   \n",
       "\n",
       "          InvoiceDate  UnitPrice  CustomerID         Country Trans_year  \\\n",
       "0 2010-12-01 08:26:00       2.55     17850.0  United Kingdom       2010   \n",
       "1 2010-12-01 08:26:00       3.39     17850.0  United Kingdom       2010   \n",
       "2 2010-12-01 08:26:00       2.75     17850.0  United Kingdom       2010   \n",
       "3 2010-12-01 08:26:00       3.39     17850.0  United Kingdom       2010   \n",
       "4 2010-12-01 08:26:00       3.39     17850.0  United Kingdom       2010   \n",
       "\n",
       "  Trans_month Trans_day Trans_hour  \n",
       "0          12         1          8  \n",
       "1          12         1          8  \n",
       "2          12         1          8  \n",
       "3          12         1          8  \n",
       "4          12         1          8  "
      ]
     },
     "execution_count": 17,
     "metadata": {},
     "output_type": "execute_result"
    }
   ],
   "source": [
    "df.head()"
   ]
  },
  {
   "cell_type": "code",
   "execution_count": 18,
   "id": "e4fe1c99",
   "metadata": {},
   "outputs": [
    {
     "data": {
      "text/plain": [
       "InvoiceNo           0\n",
       "StockCode           0\n",
       "Description         0\n",
       "Quantity            0\n",
       "InvoiceDate         0\n",
       "UnitPrice           0\n",
       "CustomerID     116139\n",
       "Country             0\n",
       "Trans_year          0\n",
       "Trans_month         0\n",
       "Trans_day           0\n",
       "Trans_hour          0\n",
       "dtype: int64"
      ]
     },
     "execution_count": 18,
     "metadata": {},
     "output_type": "execute_result"
    }
   ],
   "source": [
    "df.isnull().sum()"
   ]
  },
  {
   "cell_type": "code",
   "execution_count": 19,
   "id": "bb850ccb",
   "metadata": {},
   "outputs": [],
   "source": [
    "df['CustomerID'].fillna(df['CustomerID'].mode()[0], inplace = True)"
   ]
  },
  {
   "cell_type": "code",
   "execution_count": 20,
   "id": "08ad0bd8",
   "metadata": {},
   "outputs": [
    {
     "data": {
      "text/plain": [
       "InvoiceNo      0\n",
       "StockCode      0\n",
       "Description    0\n",
       "Quantity       0\n",
       "InvoiceDate    0\n",
       "UnitPrice      0\n",
       "CustomerID     0\n",
       "Country        0\n",
       "Trans_year     0\n",
       "Trans_month    0\n",
       "Trans_day      0\n",
       "Trans_hour     0\n",
       "dtype: int64"
      ]
     },
     "execution_count": 20,
     "metadata": {},
     "output_type": "execute_result"
    }
   ],
   "source": [
    "df.isnull().sum()"
   ]
  },
  {
   "cell_type": "markdown",
   "id": "ea18ae46",
   "metadata": {},
   "source": [
    "We have replaced the missing values of Customer ID by the mode of the feature. Now we will Encode the categorical features of the dataset."
   ]
  },
  {
   "cell_type": "code",
   "execution_count": 24,
   "id": "4343c61e",
   "metadata": {},
   "outputs": [],
   "source": [
    "def encode(value):\n",
    "    for a in value:\n",
    "        mapped = {}\n",
    "        obj = list(df[a].unique())\n",
    "        for m,n in enumerate(obj):\n",
    "            mapped.update({n:m+1})\n",
    "        df[a] = df[a].map(mapped)\n",
    "        df[a] = df[a].astype('int64')"
   ]
  },
  {
   "cell_type": "code",
   "execution_count": 25,
   "id": "dd8d3d09",
   "metadata": {},
   "outputs": [],
   "source": [
    "items = ['InvoiceNo', 'StockCode', 'Description', 'CustomerID', 'Country']"
   ]
  },
  {
   "cell_type": "code",
   "execution_count": 26,
   "id": "cb5ee001",
   "metadata": {},
   "outputs": [],
   "source": [
    "encode(items)"
   ]
  },
  {
   "cell_type": "code",
   "execution_count": 27,
   "id": "6730eb22",
   "metadata": {},
   "outputs": [
    {
     "data": {
      "text/html": [
       "<div>\n",
       "<style scoped>\n",
       "    .dataframe tbody tr th:only-of-type {\n",
       "        vertical-align: middle;\n",
       "    }\n",
       "\n",
       "    .dataframe tbody tr th {\n",
       "        vertical-align: top;\n",
       "    }\n",
       "\n",
       "    .dataframe thead th {\n",
       "        text-align: right;\n",
       "    }\n",
       "</style>\n",
       "<table border=\"1\" class=\"dataframe\">\n",
       "  <thead>\n",
       "    <tr style=\"text-align: right;\">\n",
       "      <th></th>\n",
       "      <th>InvoiceNo</th>\n",
       "      <th>StockCode</th>\n",
       "      <th>Description</th>\n",
       "      <th>Quantity</th>\n",
       "      <th>InvoiceDate</th>\n",
       "      <th>UnitPrice</th>\n",
       "      <th>CustomerID</th>\n",
       "      <th>Country</th>\n",
       "      <th>Trans_year</th>\n",
       "      <th>Trans_month</th>\n",
       "      <th>Trans_day</th>\n",
       "      <th>Trans_hour</th>\n",
       "    </tr>\n",
       "  </thead>\n",
       "  <tbody>\n",
       "    <tr>\n",
       "      <th>0</th>\n",
       "      <td>1</td>\n",
       "      <td>1</td>\n",
       "      <td>1</td>\n",
       "      <td>6</td>\n",
       "      <td>2010-12-01 08:26:00</td>\n",
       "      <td>2.55</td>\n",
       "      <td>1</td>\n",
       "      <td>1</td>\n",
       "      <td>2010</td>\n",
       "      <td>12</td>\n",
       "      <td>1</td>\n",
       "      <td>8</td>\n",
       "    </tr>\n",
       "    <tr>\n",
       "      <th>1</th>\n",
       "      <td>1</td>\n",
       "      <td>2</td>\n",
       "      <td>2</td>\n",
       "      <td>6</td>\n",
       "      <td>2010-12-01 08:26:00</td>\n",
       "      <td>3.39</td>\n",
       "      <td>1</td>\n",
       "      <td>1</td>\n",
       "      <td>2010</td>\n",
       "      <td>12</td>\n",
       "      <td>1</td>\n",
       "      <td>8</td>\n",
       "    </tr>\n",
       "    <tr>\n",
       "      <th>2</th>\n",
       "      <td>1</td>\n",
       "      <td>3</td>\n",
       "      <td>3</td>\n",
       "      <td>8</td>\n",
       "      <td>2010-12-01 08:26:00</td>\n",
       "      <td>2.75</td>\n",
       "      <td>1</td>\n",
       "      <td>1</td>\n",
       "      <td>2010</td>\n",
       "      <td>12</td>\n",
       "      <td>1</td>\n",
       "      <td>8</td>\n",
       "    </tr>\n",
       "    <tr>\n",
       "      <th>3</th>\n",
       "      <td>1</td>\n",
       "      <td>4</td>\n",
       "      <td>4</td>\n",
       "      <td>6</td>\n",
       "      <td>2010-12-01 08:26:00</td>\n",
       "      <td>3.39</td>\n",
       "      <td>1</td>\n",
       "      <td>1</td>\n",
       "      <td>2010</td>\n",
       "      <td>12</td>\n",
       "      <td>1</td>\n",
       "      <td>8</td>\n",
       "    </tr>\n",
       "    <tr>\n",
       "      <th>4</th>\n",
       "      <td>1</td>\n",
       "      <td>5</td>\n",
       "      <td>5</td>\n",
       "      <td>6</td>\n",
       "      <td>2010-12-01 08:26:00</td>\n",
       "      <td>3.39</td>\n",
       "      <td>1</td>\n",
       "      <td>1</td>\n",
       "      <td>2010</td>\n",
       "      <td>12</td>\n",
       "      <td>1</td>\n",
       "      <td>8</td>\n",
       "    </tr>\n",
       "  </tbody>\n",
       "</table>\n",
       "</div>"
      ],
      "text/plain": [
       "   InvoiceNo  StockCode  Description  Quantity         InvoiceDate  UnitPrice  \\\n",
       "0          1          1            1         6 2010-12-01 08:26:00       2.55   \n",
       "1          1          2            2         6 2010-12-01 08:26:00       3.39   \n",
       "2          1          3            3         8 2010-12-01 08:26:00       2.75   \n",
       "3          1          4            4         6 2010-12-01 08:26:00       3.39   \n",
       "4          1          5            5         6 2010-12-01 08:26:00       3.39   \n",
       "\n",
       "   CustomerID  Country Trans_year Trans_month Trans_day Trans_hour  \n",
       "0           1        1       2010          12         1          8  \n",
       "1           1        1       2010          12         1          8  \n",
       "2           1        1       2010          12         1          8  \n",
       "3           1        1       2010          12         1          8  \n",
       "4           1        1       2010          12         1          8  "
      ]
     },
     "execution_count": 27,
     "metadata": {},
     "output_type": "execute_result"
    }
   ],
   "source": [
    "df.head()"
   ]
  },
  {
   "cell_type": "code",
   "execution_count": 28,
   "id": "b8193f3e",
   "metadata": {},
   "outputs": [],
   "source": [
    "df = df.drop(['InvoiceDate'], axis = 1)"
   ]
  },
  {
   "cell_type": "code",
   "execution_count": 29,
   "id": "ba371eac",
   "metadata": {},
   "outputs": [],
   "source": [
    "# Feature Scaling\n",
    "\n",
    "from sklearn.preprocessing import StandardScaler\n",
    "scale = StandardScaler()"
   ]
  },
  {
   "cell_type": "code",
   "execution_count": 30,
   "id": "29697c9b",
   "metadata": {},
   "outputs": [],
   "source": [
    "scale_data = scale.fit_transform(df)"
   ]
  },
  {
   "cell_type": "code",
   "execution_count": 32,
   "id": "fa241942",
   "metadata": {},
   "outputs": [
    {
     "data": {
      "text/html": [
       "<div>\n",
       "<style scoped>\n",
       "    .dataframe tbody tr th:only-of-type {\n",
       "        vertical-align: middle;\n",
       "    }\n",
       "\n",
       "    .dataframe tbody tr th {\n",
       "        vertical-align: top;\n",
       "    }\n",
       "\n",
       "    .dataframe thead th {\n",
       "        text-align: right;\n",
       "    }\n",
       "</style>\n",
       "<table border=\"1\" class=\"dataframe\">\n",
       "  <thead>\n",
       "    <tr style=\"text-align: right;\">\n",
       "      <th></th>\n",
       "      <th>InvoiceNo</th>\n",
       "      <th>StockCode</th>\n",
       "      <th>Description</th>\n",
       "      <th>Quantity</th>\n",
       "      <th>UnitPrice</th>\n",
       "      <th>CustomerID</th>\n",
       "      <th>Country</th>\n",
       "      <th>Trans_year</th>\n",
       "      <th>Trans_month</th>\n",
       "      <th>Trans_day</th>\n",
       "      <th>Trans_hour</th>\n",
       "    </tr>\n",
       "  </thead>\n",
       "  <tbody>\n",
       "    <tr>\n",
       "      <th>0</th>\n",
       "      <td>0.0</td>\n",
       "      <td>-1.139680</td>\n",
       "      <td>-1.152371</td>\n",
       "      <td>0.236915</td>\n",
       "      <td>-0.083515</td>\n",
       "      <td>-0.905703</td>\n",
       "      <td>-0.190424</td>\n",
       "      <td>-3.42424</td>\n",
       "      <td>1.254859</td>\n",
       "      <td>-1.616542</td>\n",
       "      <td>-2.13674</td>\n",
       "    </tr>\n",
       "    <tr>\n",
       "      <th>1</th>\n",
       "      <td>0.0</td>\n",
       "      <td>-1.138779</td>\n",
       "      <td>-1.151482</td>\n",
       "      <td>0.236915</td>\n",
       "      <td>0.348410</td>\n",
       "      <td>-0.905703</td>\n",
       "      <td>-0.190424</td>\n",
       "      <td>-3.42424</td>\n",
       "      <td>1.254859</td>\n",
       "      <td>-1.616542</td>\n",
       "      <td>-2.13674</td>\n",
       "    </tr>\n",
       "    <tr>\n",
       "      <th>2</th>\n",
       "      <td>0.0</td>\n",
       "      <td>-1.137878</td>\n",
       "      <td>-1.150593</td>\n",
       "      <td>0.680643</td>\n",
       "      <td>0.019324</td>\n",
       "      <td>-0.905703</td>\n",
       "      <td>-0.190424</td>\n",
       "      <td>-3.42424</td>\n",
       "      <td>1.254859</td>\n",
       "      <td>-1.616542</td>\n",
       "      <td>-2.13674</td>\n",
       "    </tr>\n",
       "    <tr>\n",
       "      <th>3</th>\n",
       "      <td>0.0</td>\n",
       "      <td>-1.136977</td>\n",
       "      <td>-1.149704</td>\n",
       "      <td>0.236915</td>\n",
       "      <td>0.348410</td>\n",
       "      <td>-0.905703</td>\n",
       "      <td>-0.190424</td>\n",
       "      <td>-3.42424</td>\n",
       "      <td>1.254859</td>\n",
       "      <td>-1.616542</td>\n",
       "      <td>-2.13674</td>\n",
       "    </tr>\n",
       "    <tr>\n",
       "      <th>4</th>\n",
       "      <td>0.0</td>\n",
       "      <td>-1.136076</td>\n",
       "      <td>-1.148815</td>\n",
       "      <td>0.236915</td>\n",
       "      <td>0.348410</td>\n",
       "      <td>-0.905703</td>\n",
       "      <td>-0.190424</td>\n",
       "      <td>-3.42424</td>\n",
       "      <td>1.254859</td>\n",
       "      <td>-1.616542</td>\n",
       "      <td>-2.13674</td>\n",
       "    </tr>\n",
       "  </tbody>\n",
       "</table>\n",
       "</div>"
      ],
      "text/plain": [
       "   InvoiceNo  StockCode  Description  Quantity  UnitPrice  CustomerID  \\\n",
       "0        0.0  -1.139680    -1.152371  0.236915  -0.083515   -0.905703   \n",
       "1        0.0  -1.138779    -1.151482  0.236915   0.348410   -0.905703   \n",
       "2        0.0  -1.137878    -1.150593  0.680643   0.019324   -0.905703   \n",
       "3        0.0  -1.136977    -1.149704  0.236915   0.348410   -0.905703   \n",
       "4        0.0  -1.136076    -1.148815  0.236915   0.348410   -0.905703   \n",
       "\n",
       "    Country  Trans_year  Trans_month  Trans_day  Trans_hour  \n",
       "0 -0.190424    -3.42424     1.254859  -1.616542    -2.13674  \n",
       "1 -0.190424    -3.42424     1.254859  -1.616542    -2.13674  \n",
       "2 -0.190424    -3.42424     1.254859  -1.616542    -2.13674  \n",
       "3 -0.190424    -3.42424     1.254859  -1.616542    -2.13674  \n",
       "4 -0.190424    -3.42424     1.254859  -1.616542    -2.13674  "
      ]
     },
     "execution_count": 32,
     "metadata": {},
     "output_type": "execute_result"
    }
   ],
   "source": [
    "scale_data = pd.DataFrame(scale_data, columns = df.columns)\n",
    "scale_data.head()"
   ]
  },
  {
   "cell_type": "markdown",
   "id": "23aa949e",
   "metadata": {},
   "source": [
    "### Segmenting the customers into Clusters with K-Means "
   ]
  },
  {
   "cell_type": "code",
   "execution_count": 33,
   "id": "061582af",
   "metadata": {},
   "outputs": [],
   "source": [
    "from sklearn.cluster import KMeans"
   ]
  },
  {
   "cell_type": "code",
   "execution_count": 35,
   "id": "954baebd",
   "metadata": {},
   "outputs": [],
   "source": [
    "distance = []\n",
    "for i in range(1,20):\n",
    "    kmeans = KMeans(n_clusters = i)\n",
    "    kmeans.fit(scale_data)\n",
    "    distance.append(kmeans.inertia_)"
   ]
  },
  {
   "cell_type": "code",
   "execution_count": 36,
   "id": "086b6557",
   "metadata": {},
   "outputs": [
    {
     "data": {
      "text/plain": [
       "Text(0.5, 1.0, 'Elbow Curve')"
      ]
     },
     "execution_count": 36,
     "metadata": {},
     "output_type": "execute_result"
    },
    {
     "data": {
      "image/png": "[encoded data removed]",
      "text/plain": [
       "<Figure size 1800x1500 with 1 Axes>"
      ]
     },
     "metadata": {
      "needs_background": "light"
     },
     "output_type": "display_data"
    }
   ],
   "source": [
    "plt.figure(figsize=(12,10),dpi=150)\n",
    "plt.plot(range(1,20),distance, marker='o')\n",
    "plt.xlabel('No. of Clusters')\n",
    "plt.ylabel('Inertia')\n",
    "plt.title('Elbow Curve')"
   ]
  },
  {
   "cell_type": "markdown",
   "id": "bdec9b8a",
   "metadata": {},
   "source": [
    "From the Elbow Curve, it can be observed that after cluster 7 inertia of the remaining clusters is almost constant and hence the number of clusters present in the data can be choosen as 7."
   ]
  },
  {
   "cell_type": "code",
   "execution_count": 37,
   "id": "f328056d",
   "metadata": {},
   "outputs": [],
   "source": [
    "kmeans = KMeans(n_clusters = 7)\n",
    "kmeans.fit(scale_data)\n",
    "k_pred = kmeans.predict(scale_data)"
   ]
  },
  {
   "cell_type": "code",
   "execution_count": 38,
   "id": "57e8beeb",
   "metadata": {},
   "outputs": [
    {
     "data": {
      "text/plain": [
       "array([4, 4, 4, ..., 5, 5, 5])"
      ]
     },
     "execution_count": 38,
     "metadata": {},
     "output_type": "execute_result"
    }
   ],
   "source": [
    "k_pred"
   ]
  },
  {
   "cell_type": "code",
   "execution_count": 40,
   "id": "78d1698a",
   "metadata": {},
   "outputs": [],
   "source": [
    "scale_data['Cluster_no'] = k_pred"
   ]
  },
  {
   "cell_type": "code",
   "execution_count": 41,
   "id": "83a63f5c",
   "metadata": {},
   "outputs": [
    {
     "data": {
      "text/html": [
       "<div>\n",
       "<style scoped>\n",
       "    .dataframe tbody tr th:only-of-type {\n",
       "        vertical-align: middle;\n",
       "    }\n",
       "\n",
       "    .dataframe tbody tr th {\n",
       "        vertical-align: top;\n",
       "    }\n",
       "\n",
       "    .dataframe thead th {\n",
       "        text-align: right;\n",
       "    }\n",
       "</style>\n",
       "<table border=\"1\" class=\"dataframe\">\n",
       "  <thead>\n",
       "    <tr style=\"text-align: right;\">\n",
       "      <th></th>\n",
       "      <th>InvoiceNo</th>\n",
       "      <th>StockCode</th>\n",
       "      <th>Description</th>\n",
       "      <th>Quantity</th>\n",
       "      <th>UnitPrice</th>\n",
       "      <th>CustomerID</th>\n",
       "      <th>Country</th>\n",
       "      <th>Trans_year</th>\n",
       "      <th>Trans_month</th>\n",
       "      <th>Trans_day</th>\n",
       "      <th>Trans_hour</th>\n",
       "      <th>Cluster_no</th>\n",
       "    </tr>\n",
       "  </thead>\n",
       "  <tbody>\n",
       "    <tr>\n",
       "      <th>0</th>\n",
       "      <td>0.0</td>\n",
       "      <td>-1.139680</td>\n",
       "      <td>-1.152371</td>\n",
       "      <td>0.236915</td>\n",
       "      <td>-0.083515</td>\n",
       "      <td>-0.905703</td>\n",
       "      <td>-0.190424</td>\n",
       "      <td>-3.42424</td>\n",
       "      <td>1.254859</td>\n",
       "      <td>-1.616542</td>\n",
       "      <td>-2.13674</td>\n",
       "      <td>4</td>\n",
       "    </tr>\n",
       "    <tr>\n",
       "      <th>1</th>\n",
       "      <td>0.0</td>\n",
       "      <td>-1.138779</td>\n",
       "      <td>-1.151482</td>\n",
       "      <td>0.236915</td>\n",
       "      <td>0.348410</td>\n",
       "      <td>-0.905703</td>\n",
       "      <td>-0.190424</td>\n",
       "      <td>-3.42424</td>\n",
       "      <td>1.254859</td>\n",
       "      <td>-1.616542</td>\n",
       "      <td>-2.13674</td>\n",
       "      <td>4</td>\n",
       "    </tr>\n",
       "    <tr>\n",
       "      <th>2</th>\n",
       "      <td>0.0</td>\n",
       "      <td>-1.137878</td>\n",
       "      <td>-1.150593</td>\n",
       "      <td>0.680643</td>\n",
       "      <td>0.019324</td>\n",
       "      <td>-0.905703</td>\n",
       "      <td>-0.190424</td>\n",
       "      <td>-3.42424</td>\n",
       "      <td>1.254859</td>\n",
       "      <td>-1.616542</td>\n",
       "      <td>-2.13674</td>\n",
       "      <td>4</td>\n",
       "    </tr>\n",
       "    <tr>\n",
       "      <th>3</th>\n",
       "      <td>0.0</td>\n",
       "      <td>-1.136977</td>\n",
       "      <td>-1.149704</td>\n",
       "      <td>0.236915</td>\n",
       "      <td>0.348410</td>\n",
       "      <td>-0.905703</td>\n",
       "      <td>-0.190424</td>\n",
       "      <td>-3.42424</td>\n",
       "      <td>1.254859</td>\n",
       "      <td>-1.616542</td>\n",
       "      <td>-2.13674</td>\n",
       "      <td>4</td>\n",
       "    </tr>\n",
       "    <tr>\n",
       "      <th>4</th>\n",
       "      <td>0.0</td>\n",
       "      <td>-1.136076</td>\n",
       "      <td>-1.148815</td>\n",
       "      <td>0.236915</td>\n",
       "      <td>0.348410</td>\n",
       "      <td>-0.905703</td>\n",
       "      <td>-0.190424</td>\n",
       "      <td>-3.42424</td>\n",
       "      <td>1.254859</td>\n",
       "      <td>-1.616542</td>\n",
       "      <td>-2.13674</td>\n",
       "      <td>4</td>\n",
       "    </tr>\n",
       "  </tbody>\n",
       "</table>\n",
       "</div>"
      ],
      "text/plain": [
       "   InvoiceNo  StockCode  Description  Quantity  UnitPrice  CustomerID  \\\n",
       "0        0.0  -1.139680    -1.152371  0.236915  -0.083515   -0.905703   \n",
       "1        0.0  -1.138779    -1.151482  0.236915   0.348410   -0.905703   \n",
       "2        0.0  -1.137878    -1.150593  0.680643   0.019324   -0.905703   \n",
       "3        0.0  -1.136977    -1.149704  0.236915   0.348410   -0.905703   \n",
       "4        0.0  -1.136076    -1.148815  0.236915   0.348410   -0.905703   \n",
       "\n",
       "    Country  Trans_year  Trans_month  Trans_day  Trans_hour  Cluster_no  \n",
       "0 -0.190424    -3.42424     1.254859  -1.616542    -2.13674           4  \n",
       "1 -0.190424    -3.42424     1.254859  -1.616542    -2.13674           4  \n",
       "2 -0.190424    -3.42424     1.254859  -1.616542    -2.13674           4  \n",
       "3 -0.190424    -3.42424     1.254859  -1.616542    -2.13674           4  \n",
       "4 -0.190424    -3.42424     1.254859  -1.616542    -2.13674           4  "
      ]
     },
     "execution_count": 41,
     "metadata": {},
     "output_type": "execute_result"
    }
   ],
   "source": [
    "scale_data.head()"
   ]
  },
  {
   "cell_type": "code",
   "execution_count": 42,
   "id": "c3f7d91a",
   "metadata": {},
   "outputs": [
    {
     "data": {
      "text/plain": [
       "6    120488\n",
       "5     95618\n",
       "3     68353\n",
       "2     55950\n",
       "1     55147\n",
       "4     34146\n",
       "0      7467\n",
       "Name: Cluster_no, dtype: int64"
      ]
     },
     "execution_count": 42,
     "metadata": {},
     "output_type": "execute_result"
    }
   ],
   "source": [
    "scale_data['Cluster_no'].value_counts()"
   ]
  },
  {
   "cell_type": "code",
   "execution_count": 56,
   "id": "116f667b",
   "metadata": {},
   "outputs": [
    {
     "name": "stdout",
     "output_type": "stream",
     "text": [
      "[[ 0.00000000e+00  2.65964335e-02  2.78644355e-02  6.59217475e-01\n",
      "   5.54969996e-03  5.48335526e-01  6.63494875e+00  1.88501571e-01\n",
      "  -1.81997186e-01  1.44936872e-02 -4.32035307e-01]\n",
      " [ 0.00000000e+00 -5.34143123e-01 -5.05233035e-01 -1.01289474e-01\n",
      "  -2.65761983e-01  1.63961212e+00 -1.21526574e-01  2.92035628e-01\n",
      "   5.95841672e-01  3.97701344e-02  2.98482156e-02]\n",
      " [ 0.00000000e+00 -4.14371556e-01 -4.10096508e-01 -5.38554748e-01\n",
      "   1.62033421e+00 -3.86226776e-01 -1.22897475e-01  2.92035628e-01\n",
      "  -4.67761206e-01  8.47083275e-02 -2.46670688e-01]\n",
      " [ 0.00000000e+00 -4.87913074e-01 -4.63925369e-01  1.44361665e+00\n",
      "  -5.64948691e-01 -1.19483629e-02 -1.80348918e-02  2.92035628e-01\n",
      "  -4.65199320e-01  5.33701444e-02 -4.99917614e-01]\n",
      " [ 0.00000000e+00 -4.98768369e-01 -5.25752989e-01 -1.70114484e-01\n",
      "   1.67918014e-01 -7.04513983e-01 -1.33859744e-01 -3.42423973e+00\n",
      "   1.25485859e+00 -5.75130670e-01  1.00602947e-02]\n",
      " [ 0.00000000e+00  1.58374204e+00  1.55190197e+00  5.24522697e-02\n",
      "  -9.67132036e-03  2.19405460e-01 -9.96604905e-02  2.92035628e-01\n",
      "   3.42216599e-01  5.21963823e-02 -3.13213686e-02]\n",
      " [ 0.00000000e+00 -4.03308787e-01 -3.99309048e-01 -5.57041243e-01\n",
      "  -3.51688895e-01 -5.73631503e-01 -1.71234909e-01  2.92035628e-01\n",
      "  -4.07799491e-01  3.28218631e-02  4.33830560e-01]]\n"
     ]
    }
   ],
   "source": [
    "print(kmeans.cluster_centers_)"
   ]
  },
  {
   "cell_type": "code",
   "execution_count": 66,
   "id": "4495d8c1",
   "metadata": {},
   "outputs": [
    {
     "data": {
      "text/plain": [
       "Text(0.5, 1.0, 'Count plot of Clusters')"
      ]
     },
     "execution_count": 66,
     "metadata": {},
     "output_type": "execute_result"
    },
    {
     "data": {
      "image/png": "[encoded data removed]",
      "text/plain": [
       "<Figure size 1800x1500 with 1 Axes>"
      ]
     },
     "metadata": {
      "needs_background": "light"
     },
     "output_type": "display_data"
    }
   ],
   "source": [
    "plt.figure(figsize = (12,10), dpi=150)\n",
    "sns.countplot(scale_data['Cluster_no'])\n",
    "plt.title('Count plot of Clusters')"
   ]
  },
  {
   "cell_type": "markdown",
   "id": "b23ba156",
   "metadata": {},
   "source": [
    "As we can see the above plot describes the number of datapoints present in each of the clusters."
   ]
  },
  {
   "cell_type": "code",
   "execution_count": null,
   "id": "c3be0ebf",
   "metadata": {},
   "outputs": [],
   "source": []
  }
 ],
 "metadata": {
  "kernelspec": {
   "display_name": "Python 3",
   "language": "python",
   "name": "python3"
  },
  "language_info": {
   "codemirror_mode": {
    "name": "ipython",
    "version": 3
   },
   "file_extension": ".py",
   "mimetype": "text/x-python",
   "name": "python",
   "nbconvert_exporter": "python",
   "pygments_lexer": "ipython3",
   "version": "3.8.8"
  }
 },
 "nbformat": 4,
 "nbformat_minor": 5
}
